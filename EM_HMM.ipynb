{
 "cells": [
  {
   "cell_type": "code",
   "execution_count": 1,
   "metadata": {},
   "outputs": [],
   "source": [
    "import numpy as np\n",
    "import pandas as pd\n",
    "import pickle"
   ]
  },
  {
   "cell_type": "code",
   "execution_count": 2,
   "metadata": {},
   "outputs": [],
   "source": [
    "kc=len(pd.read_csv('train_centers.csv'))"
   ]
  },
  {
   "cell_type": "code",
   "execution_count": 3,
   "metadata": {},
   "outputs": [],
   "source": [
    "classes=['wave', 'inf', 'eight', 'circle', 'beat3', 'beat4']"
   ]
  },
  {
   "cell_type": "code",
   "execution_count": 4,
   "metadata": {},
   "outputs": [],
   "source": [
    "train = {}\n",
    "for cl in classes:\n",
    "    train[cl]=pd.read_csv('train/'+cl+'.csv').to_numpy(int).flatten()"
   ]
  },
  {
   "cell_type": "markdown",
   "metadata": {},
   "source": [
    "#### HMM"
   ]
  },
  {
   "cell_type": "code",
   "execution_count": 5,
   "metadata": {},
   "outputs": [],
   "source": [
    "N=10\n",
    "m=kc\n",
    "B = np.zeros((N,kc)) #Nxm\n",
    "B[:,:] = 1/m\n",
    "A = np.zeros((N,N)) #NxN\n",
    "A[:,:] = 1/N\n",
    "prior= np.zeros((N)) #1xN\n",
    "prior[0]=1"
   ]
  },
  {
   "cell_type": "code",
   "execution_count": 6,
   "metadata": {},
   "outputs": [],
   "source": [
    "def alpha_calc(A,N,T,B,data,prior):\n",
    "    \n",
    "    alpha=np.zeros((N,T))\n",
    "    c=np.zeros(T)\n",
    "    \n",
    "    alpha[:,0]=(B[:,data[0]]*prior)\n",
    "    c[0]=1/(np.sum(alpha[:,0])+10**(-10))\n",
    "    alpha[:,0]=alpha[:,0]*c[0]\n",
    "\n",
    "    for t in range(1,T):\n",
    "        alpha[:,t]=np.dot(alpha[:,t-1],A.T)*B[:,data[t]]\n",
    "        c[t]=1/(np.sum(alpha[:,t])+10**(-10))\n",
    "        alpha[:,t]=alpha[:,t]*c[t]\n",
    "    return alpha,c"
   ]
  },
  {
   "cell_type": "code",
   "execution_count": 7,
   "metadata": {},
   "outputs": [],
   "source": [
    "def beta_calc(N,data,prior,A,B,c):\n",
    "    T=len(data)\n",
    "    beta=np.zeros((N,T))\n",
    "    beta[:,T-1]=c[0]\n",
    "        \n",
    "    for n in range(1,T):\n",
    "        t = T-(n+1)\n",
    "        for i in range (N):\n",
    "            for j in range(N):\n",
    "                beta[i,t] = beta[i,t] + A[i,j]*B[j,data[t+1]]*beta[j,t+1]\n",
    "            beta[i,t] = c[t]*beta[i,t]\n",
    "    return beta"
   ]
  },
  {
   "cell_type": "code",
   "execution_count": 8,
   "metadata": {},
   "outputs": [],
   "source": [
    "def E_step(alpha,beta,T,N,A,B,data):\n",
    "    gamma=np.zeros((N,T))\n",
    "    epsilon=np.zeros((N,T,N))\n",
    "    \n",
    "    gamma[:,0]=(alpha[:,0]*beta[:,0])/(alpha[:,0].T@beta[:,0])\n",
    "    \n",
    "    for t in range (1,T):\n",
    "        gamma[:,t]=(alpha[:,t]*beta[:,t])/(alpha[:,t].T@beta[:,t])\n",
    "        h = T-(t+1)\n",
    "        sums = 0\n",
    "        for i in range (1,N):\n",
    "            for j in range (1,N):  \n",
    "                sums += alpha[i,t]*(A[i,j]*B[j,data[h]]*(beta[j,h+1]))\n",
    "        epsilon[:,t,:] = (alpha[:,t]*(A*B[:,data[h+1]]@(beta[:,h+1])))/sums\n",
    "    return gamma,epsilon"
   ]
  },
  {
   "cell_type": "code",
   "execution_count": 9,
   "metadata": {},
   "outputs": [],
   "source": [
    "def M_step(data,gamma,N,T,epsilon,A,B,m):\n",
    "    A_new=np.copy(A)\n",
    "    B_new=np.copy(B)\n",
    "    \n",
    "    prior = gamma[:,0]/(np.sum(gamma[:,0]))\n",
    "    \n",
    "    for i in range (N):\n",
    "        sums = np.sum(epsilon[i,:,:])\n",
    "        for j in range (N):                    \n",
    "            A_new[j,i] = np.sum(epsilon[i,:,j])/sums\n",
    "            \n",
    "    for i in range(N):\n",
    "        den = 0 \n",
    "        for t in range(T):\n",
    "            den +=gamma[i][t]\n",
    "        for j in range(m):\n",
    "            num = 0\n",
    "            for t in range(T):\n",
    "                if (data[t] == j):\n",
    "                    num +=gamma[i][t]\n",
    "            B_new[i][j] = num/den\n",
    "    \n",
    "    return prior,A_new,B_new"
   ]
  },
  {
   "cell_type": "code",
   "execution_count": 10,
   "metadata": {},
   "outputs": [],
   "source": [
    "def loglikelihood(c):    \n",
    "    return -np.sum(np.log(c))"
   ]
  },
  {
   "cell_type": "code",
   "execution_count": 11,
   "metadata": {},
   "outputs": [],
   "source": [
    "def BW_algo(A,N,B,m,data,prior,tol):\n",
    "    prev=0\n",
    "    T=len(data)\n",
    "    while True:\n",
    "        \n",
    "        alpha,c=alpha_calc(A,N,T,B,data,prior)\n",
    "        beta=beta_calc(N,data,prior,A,B,c)\n",
    "        gamma,epsilon = E_step(alpha,beta,T,N,A,B,data)\n",
    "        prior,A,B = M_step(data,gamma,N,T,epsilon,A,B,m)\n",
    "        \n",
    "        error=loglikelihood(c)\n",
    "        \n",
    "        print(error)\n",
    "        if abs(error-prev)<=tol or np.isnan(error):\n",
    "            print('converges')\n",
    "            break\n",
    "        else:\n",
    "            prev=error\n",
    "            \n",
    "    return A,B,prior"
   ]
  },
  {
   "cell_type": "code",
   "execution_count": 12,
   "metadata": {
    "scrolled": true
   },
   "outputs": [
    {
     "name": "stdout",
     "output_type": "stream",
     "text": [
      "class wave\n",
      "-56841.694268865955\n",
      "-34971.49219291376\n",
      "-34971.44059833545\n",
      "converges\n",
      "class inf\n",
      "-48575.58965839629\n",
      "-29857.843333685763\n",
      "-29857.838556461706\n",
      "converges\n",
      "class eight\n",
      "-55945.84100062291\n",
      "-34159.07088502202\n",
      "-34159.06197655674\n",
      "converges\n",
      "class circle\n",
      "-41573.0684786799\n",
      "-24709.265992736713\n",
      "-24709.258310378667\n",
      "converges\n",
      "class beat3\n",
      "-52542.380985900425\n",
      "-36461.59858654433\n",
      "-36461.59652705464\n",
      "converges\n",
      "class beat4\n",
      "-54901.3308581736\n",
      "-41622.918504762114\n",
      "-41622.913904015964\n",
      "converges\n"
     ]
    }
   ],
   "source": [
    "As,Bs,Ps={},{},{}\n",
    "for cl in classes:\n",
    "    print('class',cl)\n",
    "    As[cl],Bs[cl],Ps[cl]=BW_algo(A,N,B,m,train[cl],prior,1)"
   ]
  },
  {
   "cell_type": "markdown",
   "metadata": {},
   "source": [
    "#### Testing on validation set"
   ]
  },
  {
   "cell_type": "code",
   "execution_count": 13,
   "metadata": {},
   "outputs": [],
   "source": [
    "val = {}\n",
    "for cl in classes:\n",
    "    val[cl]=pd.read_csv('val/'+cl+'.csv').to_numpy(int).flatten()"
   ]
  },
  {
   "cell_type": "code",
   "execution_count": 14,
   "metadata": {},
   "outputs": [],
   "source": [
    "def predict(As,Bs,N,data,Ps,classes):\n",
    "    ll=np.array([])\n",
    "    T=len(data)\n",
    "    for cl in classes:\n",
    "        a,c=alpha_calc(As[cl],N,T,Bs[cl],data,Ps[cl])\n",
    "        ll=np.append(ll,-np.sum(np.log(c)))\n",
    "        \n",
    "    index=ll.argsort()[-3:][::-1]\n",
    "    for i in range(3):\n",
    "        ids=index[i]\n",
    "        print(' ','Prediction',i,' ', 'Class:',classes[ids],'LL:',round(ll[ids],2))\n",
    "    return"
   ]
  },
  {
   "cell_type": "code",
   "execution_count": 15,
   "metadata": {},
   "outputs": [
    {
     "name": "stdout",
     "output_type": "stream",
     "text": [
      "Data: wave\n",
      "  Prediction 0   Class: wave LL: -1907.72\n",
      "  Prediction 1   Class: beat3 LL: -5819.66\n",
      "  Prediction 2   Class: beat4 LL: -5838.23\n",
      "Data: inf\n",
      "  Prediction 0   Class: inf LL: -1847.82\n",
      "  Prediction 1   Class: beat3 LL: -12125.21\n",
      "  Prediction 2   Class: beat4 LL: -12342.63\n",
      "Data: eight\n",
      "  Prediction 0   Class: eight LL: -1443.67\n",
      "  Prediction 1   Class: inf LL: -8342.84\n",
      "  Prediction 2   Class: beat3 LL: -9479.94\n",
      "Data: circle\n",
      "  Prediction 0   Class: circle LL: -1219.81\n",
      "  Prediction 1   Class: beat4 LL: -6761.94\n",
      "  Prediction 2   Class: beat3 LL: -7451.43\n",
      "Data: beat3\n",
      "  Prediction 0   Class: beat3 LL: -1717.44\n",
      "  Prediction 1   Class: beat4 LL: -5893.17\n",
      "  Prediction 2   Class: wave LL: -10237.05\n",
      "Data: beat4\n",
      "  Prediction 0   Class: beat4 LL: -2289.19\n",
      "  Prediction 1   Class: beat3 LL: -10280.59\n",
      "  Prediction 2   Class: wave LL: -12446.37\n"
     ]
    }
   ],
   "source": [
    "for cl in classes:\n",
    "    print('Data:',cl)\n",
    "    predict(As,Bs,N,val[cl],Ps,classes)"
   ]
  },
  {
   "cell_type": "code",
   "execution_count": 16,
   "metadata": {},
   "outputs": [],
   "source": [
    "for cl in classes:\n",
    "    pd.DataFrame(As[cl]).to_csv('models/'+'As_'+cl+'.csv',index=False)"
   ]
  },
  {
   "cell_type": "code",
   "execution_count": 17,
   "metadata": {},
   "outputs": [],
   "source": [
    "for cl in classes:\n",
    "    pd.DataFrame(Bs[cl]).to_csv('models/'+'Bs_'+cl+'.csv',index=False)"
   ]
  },
  {
   "cell_type": "code",
   "execution_count": 18,
   "metadata": {},
   "outputs": [],
   "source": [
    "for cl in classes:\n",
    "    pd.DataFrame(Ps[cl]).to_csv('models/'+'Ps_'+cl+'.csv',index=False)"
   ]
  },
  {
   "cell_type": "code",
   "execution_count": 19,
   "metadata": {},
   "outputs": [],
   "source": [
    "with open('states_num.txt', 'w') as f:\n",
    "    f.write('%d' % N)"
   ]
  },
  {
   "cell_type": "code",
   "execution_count": null,
   "metadata": {},
   "outputs": [],
   "source": []
  }
 ],
 "metadata": {
  "kernelspec": {
   "display_name": "Python 3",
   "language": "python",
   "name": "python3"
  },
  "language_info": {
   "codemirror_mode": {
    "name": "ipython",
    "version": 3
   },
   "file_extension": ".py",
   "mimetype": "text/x-python",
   "name": "python",
   "nbconvert_exporter": "python",
   "pygments_lexer": "ipython3",
   "version": "3.7.4"
  }
 },
 "nbformat": 4,
 "nbformat_minor": 2
}
