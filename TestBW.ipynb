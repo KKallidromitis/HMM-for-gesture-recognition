{
 "cells": [
  {
   "cell_type": "code",
   "execution_count": 1,
   "metadata": {},
   "outputs": [],
   "source": [
    "import numpy as np\n",
    "import pandas as pd\n",
    "from os import listdir"
   ]
  },
  {
   "cell_type": "code",
   "execution_count": 2,
   "metadata": {},
   "outputs": [],
   "source": [
    "load='test'\n",
    "classes=['wave', 'inf', 'eight', 'circle', 'beat3', 'beat4']\n",
    "with open('states_num.txt', 'r') as f:\n",
    "    N=int(f.read())"
   ]
  },
  {
   "cell_type": "code",
   "execution_count": 3,
   "metadata": {},
   "outputs": [],
   "source": [
    "path='test' "
   ]
  },
  {
   "cell_type": "code",
   "execution_count": 4,
   "metadata": {},
   "outputs": [],
   "source": [
    "data = {}\n",
    "for cl in listdir(path):\n",
    "    data[cl]=pd.read_csv(load+'/'+cl+'.csv').to_numpy(int).flatten()"
   ]
  },
  {
   "cell_type": "code",
   "execution_count": 5,
   "metadata": {},
   "outputs": [],
   "source": [
    "def alpha_calc(A,N,T,B,data,prior):\n",
    "    \n",
    "    alpha=np.zeros((N,T))\n",
    "    c=np.zeros(T)\n",
    "    \n",
    "    alpha[:,0]=(B[:,data[0]]*prior)\n",
    "    c[0]=1/(np.sum(alpha[:,0])+10**(-10))\n",
    "    alpha[:,0]=alpha[:,0]*c[0]\n",
    "\n",
    "    for t in range(1,T):\n",
    "        alpha[:,t]=np.dot(alpha[:,t-1],A.T)*B[:,data[t]]\n",
    "        c[t]=1/(np.sum(alpha[:,t])+10**(-10))\n",
    "        alpha[:,t]=alpha[:,t]*c[t]\n",
    "    \n",
    "    return alpha,c"
   ]
  },
  {
   "cell_type": "code",
   "execution_count": 6,
   "metadata": {},
   "outputs": [],
   "source": [
    "def predict(As,Bs,N,data,Ps,classes):\n",
    "    ll=np.array([])\n",
    "    T=len(data)\n",
    "    for cl in classes:\n",
    "        a,c=alpha_calc(As[cl],N,T,Bs[cl],data,Ps[cl])\n",
    "        ll=np.append(ll,-np.sum(np.log(c)))\n",
    "        \n",
    "    index=ll.argsort()[-3:][::-1]\n",
    "    for i in range(3):\n",
    "        ids=index[i]\n",
    "        print(' ','Prediction',i,' ', 'Class:',classes[ids],'LL:',round(ll[ids],2))\n",
    "    return"
   ]
  },
  {
   "cell_type": "code",
   "execution_count": 7,
   "metadata": {},
   "outputs": [],
   "source": [
    "As={}\n",
    "for cl in classes:\n",
    "    As[cl]=pd.read_csv('models/'+'As_'+cl+'.csv').to_numpy()"
   ]
  },
  {
   "cell_type": "code",
   "execution_count": 8,
   "metadata": {},
   "outputs": [],
   "source": [
    "Bs={}\n",
    "for cl in classes:\n",
    "    Bs[cl]=pd.read_csv('models/'+'Bs_'+cl+'.csv').to_numpy()"
   ]
  },
  {
   "cell_type": "code",
   "execution_count": 9,
   "metadata": {},
   "outputs": [],
   "source": [
    "Ps={}\n",
    "for cl in classes:\n",
    "    Ps[cl]=np.reshape(pd.read_csv('models/'+'Ps_'+cl+'.csv').to_numpy(),(1,N))"
   ]
  },
  {
   "cell_type": "code",
   "execution_count": null,
   "metadata": {},
   "outputs": [
    {
     "name": "stdout",
     "output_type": "stream",
     "text": [
      "Data: test1.txt\n",
      "  Prediction 0   Class: wave LL: -892.22\n",
      "  Prediction 1   Class: eight LL: -6034.6\n",
      "  Prediction 2   Class: beat3 LL: -6426.74\n",
      "Data: test2.txt\n",
      "  Prediction 0   Class: beat4 LL: -2656.08\n",
      "  Prediction 1   Class: beat3 LL: -10020.87\n",
      "  Prediction 2   Class: wave LL: -14065.94\n",
      "Data: test3.txt\n",
      "  Prediction 0   Class: inf LL: -1888.5\n",
      "  Prediction 1   Class: eight LL: -10555.19\n",
      "  Prediction 2   Class: beat3 LL: -12087.15\n",
      "Data: test4.txt\n",
      "  Prediction 0   Class: beat3 LL: -3082.53\n",
      "  Prediction 1   Class: beat4 LL: -5897.31\n",
      "  Prediction 2   Class: wave LL: -12518.57\n",
      "Data: test5.txt\n"
     ]
    }
   ],
   "source": [
    "for cl in listdir(path):\n",
    "    print('Data:',cl)\n",
    "    predict(As,Bs,N,data[cl],Ps,classes)"
   ]
  },
  {
   "cell_type": "code",
   "execution_count": null,
   "metadata": {},
   "outputs": [],
   "source": []
  },
  {
   "cell_type": "code",
   "execution_count": null,
   "metadata": {},
   "outputs": [],
   "source": []
  }
 ],
 "metadata": {
  "kernelspec": {
   "display_name": "Python 3",
   "language": "python",
   "name": "python3"
  },
  "language_info": {
   "codemirror_mode": {
    "name": "ipython",
    "version": 3
   },
   "file_extension": ".py",
   "mimetype": "text/x-python",
   "name": "python",
   "nbconvert_exporter": "python",
   "pygments_lexer": "ipython3",
   "version": "3.7.4"
  }
 },
 "nbformat": 4,
 "nbformat_minor": 2
}
